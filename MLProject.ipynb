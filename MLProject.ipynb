{
  "nbformat": 4,
  "nbformat_minor": 0,
  "metadata": {
    "colab": {
      "provenance": []
    },
    "kernelspec": {
      "name": "python3",
      "display_name": "Python 3"
    },
    "language_info": {
      "name": "python"
    }
  },
  "cells": [
    {
      "cell_type": "markdown",
      "source": [
        "**1. Load the Dataset:**"
      ],
      "metadata": {
        "id": "UxeqXDFtcfA9"
      }
    },
    {
      "cell_type": "code",
      "execution_count": 7,
      "metadata": {
        "id": "gGWKl4g6NIq1"
      },
      "outputs": [],
      "source": [
        "import pandas as pd\n",
        "\n",
        "file_path='insurance.csv'\n",
        "database = pd.read_csv(file_path)"
      ]
    },
    {
      "cell_type": "markdown",
      "source": [
        "**2. Prepare Train-Validation-Test Split:**"
      ],
      "metadata": {
        "id": "If7Q9AJJczpb"
      }
    },
    {
      "cell_type": "code",
      "source": [
        "from sklearn.model_selection import train_test_split\n",
        "X = database.drop('charges', axis=1)\n",
        "Y = database['charges']\n",
        "\n",
        "X_val, X_test, y_val, y_test = train_test_split(X, Y, test_size=0.2, random_state=42)\n",
        "X_train, X_val, y_train, y_val = train_test_split(X_val, y_val, test_size=0.25, random_state=42)"
      ],
      "metadata": {
        "id": "4YI8ydI9dXmd"
      },
      "execution_count": 41,
      "outputs": []
    },
    {
      "cell_type": "markdown",
      "source": [
        "**3. Preprocessing the Data**\n",
        "\n",
        "---\n",
        "  After Preprocessing the data will be ordered in this order\n",
        "\n",
        "  ['age', 'bmi', 'children', 'sex_female', 'sex_male', 'smoker_no',\n",
        "  'smoker_yes', 'region_northeast', 'region_northwest', 'region_southeast', 'region_southwest']\n",
        "\n",
        "---\n",
        "\n",
        "\n",
        "\n",
        "\n"
      ],
      "metadata": {
        "id": "8K6lTRCKpXZF"
      }
    },
    {
      "cell_type": "code",
      "source": [
        "from sklearn.preprocessing import StandardScaler, OneHotEncoder\n",
        "from sklearn.compose import ColumnTransformer\n",
        "numerical_features = ['age', 'bmi', 'children']\n",
        "categorical_features = ['sex', 'smoker', 'region']\n",
        "\n",
        "#StandarScaler() --> Takes the numerical values and standardize them all to have a value of Mean 0 and Standared Deviation 1\n",
        "numerical_transformer = StandardScaler()\n",
        "#OneHotEncode()  --> Takes the Categrocal values(string) and turn them to binary number based on how many option for the column\n",
        "# Example. Sex column --> have only two options 1-Male 2 Female --> then it will turn it to (10) or (01)\n",
        "categorical_transformer = OneHotEncoder()\n",
        "\n",
        "#ColumnTransofrmer is benificial when you have both numerical and categorical values . It compines them\n",
        "preprocessor = ColumnTransformer(\n",
        "    [\n",
        "        ('num', numerical_transformer, numerical_features),\n",
        "        ('cat', categorical_transformer, categorical_features)\n",
        "    ])\n",
        "X_train_preprocessed = preprocessor.fit_transform(X_train)\n",
        "X_val_preprocessed = preprocessor.transform(X_val)\n",
        "X_test_preprocessed = preprocessor.transform(X_test)\n",
        "\n",
        "target_preprocessor = StandardScaler()\n",
        "y_train_preprocessed = target_preprocessor.fit_transform(y_train.values.reshape(-1, 1)).flatten()\n",
        "y_val_preprocessed = target_preprocessor.transform(y_val.values.reshape(-1, 1)).flatten()\n",
        "y_test_preprocessed = target_preprocessor.transform(y_test.values.reshape(-1, 1)).flatten()\n"
      ],
      "metadata": {
        "id": "5nMCMhoedlj7"
      },
      "execution_count": 94,
      "outputs": []
    },
    {
      "cell_type": "markdown",
      "source": [
        "**4. Model Comparision**"
      ],
      "metadata": {
        "id": "3Yahg-ypv6IO"
      }
    },
    {
      "cell_type": "code",
      "source": [
        "from sklearn.linear_model import LinearRegression\n",
        "from sklearn.tree import DecisionTreeRegressor\n",
        "from sklearn.ensemble import RandomForestRegressor\n",
        "from sklearn.metrics import mean_squared_error\n",
        "\n",
        "models = [\n",
        "    ('Linear Regression', LinearRegression()),\n",
        "    ('Decision Tree', DecisionTreeRegressor()),\n",
        "    ('Random Forest', RandomForestRegressor())\n",
        "]\n",
        "for name , model in models:\n",
        "  model.fit(X_train_preprocessed, y_train_preprocessed)\n",
        "  y_pred_val = model.predict(X_test_preprocessed)\n",
        "  mse = mean_squared_error(y_test_preprocessed, y_pred_val)\n",
        "  print (\"-------\",name,\"---------\")\n",
        "  print(\"Mean Squared Error on Test Set: \" ,mse)\n",
        "  correct_indices = (y_pred_val == y_test_preprocessed)\n",
        "\n",
        "  print(\"Correctly Classified Examples: \" , (correct_indices.sum()))\n",
        "  print(\"Wrongly Classified Examples:: \" , len(correct_indices) - (correct_indices.sum()))\n",
        "\n"
      ],
      "metadata": {
        "colab": {
          "base_uri": "https://localhost:8080/"
        },
        "id": "Cc2hyBv5n-VY",
        "outputId": "fe3868f5-5b0f-4c06-927b-fcce5448ddba"
      },
      "execution_count": 95,
      "outputs": [
        {
          "output_type": "stream",
          "name": "stdout",
          "text": [
            "------- Linear Regression ---------\n",
            "Mean Squared Error on Test Set:  0.24841936874983594\n",
            "Correctly Classified Examples:  0\n",
            "Wrongly Classified Examples::  268\n",
            "------- Decision Tree ---------\n",
            "Mean Squared Error on Test Set:  0.3173765664165159\n",
            "Correctly Classified Examples:  1\n",
            "Wrongly Classified Examples::  267\n",
            "------- Random Forest ---------\n",
            "Mean Squared Error on Test Set:  0.1594224602802288\n",
            "Correctly Classified Examples:  0\n",
            "Wrongly Classified Examples::  268\n"
          ]
        }
      ]
    },
    {
      "cell_type": "code",
      "source": [],
      "metadata": {
        "id": "tzBvPfcVweYl"
      },
      "execution_count": null,
      "outputs": []
    }
  ]
}